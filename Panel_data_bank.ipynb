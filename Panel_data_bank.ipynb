{
  "nbformat": 4,
  "nbformat_minor": 0,
  "metadata": {
    "colab": {
      "provenance": []
    },
    "kernelspec": {
      "name": "python3",
      "display_name": "Python 3"
    },
    "language_info": {
      "name": "python"
    }
  },
  "cells": [
    {
      "cell_type": "code",
      "execution_count": 80,
      "metadata": {
        "id": "Kqn3wesKPCOE"
      },
      "outputs": [],
      "source": [
        "import pandas as pd\n",
        "import numpy as np\n",
        "import statsmodels.api as sm\n",
        "import statsmodels.api as sm\n",
        "import statsmodels.formula.api as smf\n",
        "from statsmodels.stats.outliers_influence import variance_inflation_factor\n",
        "import wooldridge\n",
        "import matplotlib.pyplot as plt"
      ]
    },
    {
      "cell_type": "code",
      "source": [
        "from google.colab import drive\n",
        "drive.mount('/content/drive')"
      ],
      "metadata": {
        "colab": {
          "base_uri": "https://localhost:8080/"
        },
        "id": "PpCTn25bQCMt",
        "outputId": "4e3fe427-f501-4e38-8c1c-08fac2482a0c"
      },
      "execution_count": 4,
      "outputs": [
        {
          "output_type": "stream",
          "name": "stdout",
          "text": [
            "Drive already mounted at /content/drive; to attempt to forcibly remount, call drive.mount(\"/content/drive\", force_remount=True).\n"
          ]
        }
      ]
    },
    {
      "cell_type": "code",
      "source": [
        "df = pd.read_excel('/content/drive/MyDrive/GPA UNI/NĂM 3 HKI/Analysis of Panel data/PROJECT/Bank data.xlsx')\n",
        "df"
      ],
      "metadata": {
        "colab": {
          "base_uri": "https://localhost:8080/",
          "height": 424
        },
        "id": "NjPzxOARQSGu",
        "outputId": "adf8aa2f-df14-4763-ebd9-886482767aac"
      },
      "execution_count": 6,
      "outputs": [
        {
          "output_type": "execute_result",
          "data": {
            "text/plain": [
              "    mack   nam    size     llp     nim     roe     car     lta     eta  \\\n",
              "0    ABB  2011  7.6185  0.0162  0.0551  0.1058  0.1400  0.4718  0.1137   \n",
              "1    ABB  2012  7.6629  0.0225  0.0478  0.0638  0.1200  0.3986  0.1065   \n",
              "2    ABB  2013  7.7606  0.0284  0.0286  0.0750  0.1780  0.3990  0.0997   \n",
              "3    ABB  2014  7.8291  0.0186  0.0267  0.0245  0.1430  0.3779  0.0847   \n",
              "4    ABB  2015  7.8087  0.0126  0.0279  0.0203  0.1747  0.4743  0.0899   \n",
              "..   ...   ...     ...     ...     ...     ...     ...     ...     ...   \n",
              "314  VIB  2017  8.0905  0.0120  0.0326  0.0641  0.1307  0.6408  0.0714   \n",
              "315  VIB  2018  8.1435  0.0092  0.0390  0.1156  0.1290  0.6845  0.0767   \n",
              "316  VIB  2019  8.2661  0.0101  0.0425  0.1821  0.0967  0.6932  0.0728   \n",
              "317  VIB  2020  8.3886  0.0104  0.0455  0.2080  0.1012  0.6857  0.0735   \n",
              "318  VIB  2021  8.4907  0.0121  0.0487  0.2197  0.1172  0.6433  0.0785   \n",
              "\n",
              "        lvr    gdp     inf      fg      ld      la  \n",
              "0    0.8863  0.064  0.1868 -0.1418  0.7689  0.2223  \n",
              "1    0.8935  0.055  0.0909 -0.3263  0.5499  0.2875  \n",
              "2    0.9003  0.056  0.0659 -0.3057  0.5662  0.3114  \n",
              "3    0.9153  0.064  0.0408 -0.2906  0.5653  0.3070  \n",
              "4    0.9101  0.070  0.0063 -0.2641  0.6423  0.2163  \n",
              "..      ...    ...     ...     ...     ...     ...  \n",
              "314  0.9286  0.069  0.0352  0.0122  1.0193  0.1208  \n",
              "315  0.9233  0.072  0.0354  0.0018  1.0026  0.0861  \n",
              "316  0.9272  0.072  0.0280 -0.0629  0.9169  0.1312  \n",
              "317  0.9265  0.029  0.0322 -0.0455  0.9378  0.1242  \n",
              "318  0.9215  0.026  0.0183 -0.0541  0.9224  0.1757  \n",
              "\n",
              "[319 rows x 15 columns]"
            ],
            "text/html": [
              "\n",
              "  <div id=\"df-bfe897ab-6d68-4b13-a545-50ccb092ad09\">\n",
              "    <div class=\"colab-df-container\">\n",
              "      <div>\n",
              "<style scoped>\n",
              "    .dataframe tbody tr th:only-of-type {\n",
              "        vertical-align: middle;\n",
              "    }\n",
              "\n",
              "    .dataframe tbody tr th {\n",
              "        vertical-align: top;\n",
              "    }\n",
              "\n",
              "    .dataframe thead th {\n",
              "        text-align: right;\n",
              "    }\n",
              "</style>\n",
              "<table border=\"1\" class=\"dataframe\">\n",
              "  <thead>\n",
              "    <tr style=\"text-align: right;\">\n",
              "      <th></th>\n",
              "      <th>mack</th>\n",
              "      <th>nam</th>\n",
              "      <th>size</th>\n",
              "      <th>llp</th>\n",
              "      <th>nim</th>\n",
              "      <th>roe</th>\n",
              "      <th>car</th>\n",
              "      <th>lta</th>\n",
              "      <th>eta</th>\n",
              "      <th>lvr</th>\n",
              "      <th>gdp</th>\n",
              "      <th>inf</th>\n",
              "      <th>fg</th>\n",
              "      <th>ld</th>\n",
              "      <th>la</th>\n",
              "    </tr>\n",
              "  </thead>\n",
              "  <tbody>\n",
              "    <tr>\n",
              "      <th>0</th>\n",
              "      <td>ABB</td>\n",
              "      <td>2011</td>\n",
              "      <td>7.6185</td>\n",
              "      <td>0.0162</td>\n",
              "      <td>0.0551</td>\n",
              "      <td>0.1058</td>\n",
              "      <td>0.1400</td>\n",
              "      <td>0.4718</td>\n",
              "      <td>0.1137</td>\n",
              "      <td>0.8863</td>\n",
              "      <td>0.064</td>\n",
              "      <td>0.1868</td>\n",
              "      <td>-0.1418</td>\n",
              "      <td>0.7689</td>\n",
              "      <td>0.2223</td>\n",
              "    </tr>\n",
              "    <tr>\n",
              "      <th>1</th>\n",
              "      <td>ABB</td>\n",
              "      <td>2012</td>\n",
              "      <td>7.6629</td>\n",
              "      <td>0.0225</td>\n",
              "      <td>0.0478</td>\n",
              "      <td>0.0638</td>\n",
              "      <td>0.1200</td>\n",
              "      <td>0.3986</td>\n",
              "      <td>0.1065</td>\n",
              "      <td>0.8935</td>\n",
              "      <td>0.055</td>\n",
              "      <td>0.0909</td>\n",
              "      <td>-0.3263</td>\n",
              "      <td>0.5499</td>\n",
              "      <td>0.2875</td>\n",
              "    </tr>\n",
              "    <tr>\n",
              "      <th>2</th>\n",
              "      <td>ABB</td>\n",
              "      <td>2013</td>\n",
              "      <td>7.7606</td>\n",
              "      <td>0.0284</td>\n",
              "      <td>0.0286</td>\n",
              "      <td>0.0750</td>\n",
              "      <td>0.1780</td>\n",
              "      <td>0.3990</td>\n",
              "      <td>0.0997</td>\n",
              "      <td>0.9003</td>\n",
              "      <td>0.056</td>\n",
              "      <td>0.0659</td>\n",
              "      <td>-0.3057</td>\n",
              "      <td>0.5662</td>\n",
              "      <td>0.3114</td>\n",
              "    </tr>\n",
              "    <tr>\n",
              "      <th>3</th>\n",
              "      <td>ABB</td>\n",
              "      <td>2014</td>\n",
              "      <td>7.8291</td>\n",
              "      <td>0.0186</td>\n",
              "      <td>0.0267</td>\n",
              "      <td>0.0245</td>\n",
              "      <td>0.1430</td>\n",
              "      <td>0.3779</td>\n",
              "      <td>0.0847</td>\n",
              "      <td>0.9153</td>\n",
              "      <td>0.064</td>\n",
              "      <td>0.0408</td>\n",
              "      <td>-0.2906</td>\n",
              "      <td>0.5653</td>\n",
              "      <td>0.3070</td>\n",
              "    </tr>\n",
              "    <tr>\n",
              "      <th>4</th>\n",
              "      <td>ABB</td>\n",
              "      <td>2015</td>\n",
              "      <td>7.8087</td>\n",
              "      <td>0.0126</td>\n",
              "      <td>0.0279</td>\n",
              "      <td>0.0203</td>\n",
              "      <td>0.1747</td>\n",
              "      <td>0.4743</td>\n",
              "      <td>0.0899</td>\n",
              "      <td>0.9101</td>\n",
              "      <td>0.070</td>\n",
              "      <td>0.0063</td>\n",
              "      <td>-0.2641</td>\n",
              "      <td>0.6423</td>\n",
              "      <td>0.2163</td>\n",
              "    </tr>\n",
              "    <tr>\n",
              "      <th>...</th>\n",
              "      <td>...</td>\n",
              "      <td>...</td>\n",
              "      <td>...</td>\n",
              "      <td>...</td>\n",
              "      <td>...</td>\n",
              "      <td>...</td>\n",
              "      <td>...</td>\n",
              "      <td>...</td>\n",
              "      <td>...</td>\n",
              "      <td>...</td>\n",
              "      <td>...</td>\n",
              "      <td>...</td>\n",
              "      <td>...</td>\n",
              "      <td>...</td>\n",
              "      <td>...</td>\n",
              "    </tr>\n",
              "    <tr>\n",
              "      <th>314</th>\n",
              "      <td>VIB</td>\n",
              "      <td>2017</td>\n",
              "      <td>8.0905</td>\n",
              "      <td>0.0120</td>\n",
              "      <td>0.0326</td>\n",
              "      <td>0.0641</td>\n",
              "      <td>0.1307</td>\n",
              "      <td>0.6408</td>\n",
              "      <td>0.0714</td>\n",
              "      <td>0.9286</td>\n",
              "      <td>0.069</td>\n",
              "      <td>0.0352</td>\n",
              "      <td>0.0122</td>\n",
              "      <td>1.0193</td>\n",
              "      <td>0.1208</td>\n",
              "    </tr>\n",
              "    <tr>\n",
              "      <th>315</th>\n",
              "      <td>VIB</td>\n",
              "      <td>2018</td>\n",
              "      <td>8.1435</td>\n",
              "      <td>0.0092</td>\n",
              "      <td>0.0390</td>\n",
              "      <td>0.1156</td>\n",
              "      <td>0.1290</td>\n",
              "      <td>0.6845</td>\n",
              "      <td>0.0767</td>\n",
              "      <td>0.9233</td>\n",
              "      <td>0.072</td>\n",
              "      <td>0.0354</td>\n",
              "      <td>0.0018</td>\n",
              "      <td>1.0026</td>\n",
              "      <td>0.0861</td>\n",
              "    </tr>\n",
              "    <tr>\n",
              "      <th>316</th>\n",
              "      <td>VIB</td>\n",
              "      <td>2019</td>\n",
              "      <td>8.2661</td>\n",
              "      <td>0.0101</td>\n",
              "      <td>0.0425</td>\n",
              "      <td>0.1821</td>\n",
              "      <td>0.0967</td>\n",
              "      <td>0.6932</td>\n",
              "      <td>0.0728</td>\n",
              "      <td>0.9272</td>\n",
              "      <td>0.072</td>\n",
              "      <td>0.0280</td>\n",
              "      <td>-0.0629</td>\n",
              "      <td>0.9169</td>\n",
              "      <td>0.1312</td>\n",
              "    </tr>\n",
              "    <tr>\n",
              "      <th>317</th>\n",
              "      <td>VIB</td>\n",
              "      <td>2020</td>\n",
              "      <td>8.3886</td>\n",
              "      <td>0.0104</td>\n",
              "      <td>0.0455</td>\n",
              "      <td>0.2080</td>\n",
              "      <td>0.1012</td>\n",
              "      <td>0.6857</td>\n",
              "      <td>0.0735</td>\n",
              "      <td>0.9265</td>\n",
              "      <td>0.029</td>\n",
              "      <td>0.0322</td>\n",
              "      <td>-0.0455</td>\n",
              "      <td>0.9378</td>\n",
              "      <td>0.1242</td>\n",
              "    </tr>\n",
              "    <tr>\n",
              "      <th>318</th>\n",
              "      <td>VIB</td>\n",
              "      <td>2021</td>\n",
              "      <td>8.4907</td>\n",
              "      <td>0.0121</td>\n",
              "      <td>0.0487</td>\n",
              "      <td>0.2197</td>\n",
              "      <td>0.1172</td>\n",
              "      <td>0.6433</td>\n",
              "      <td>0.0785</td>\n",
              "      <td>0.9215</td>\n",
              "      <td>0.026</td>\n",
              "      <td>0.0183</td>\n",
              "      <td>-0.0541</td>\n",
              "      <td>0.9224</td>\n",
              "      <td>0.1757</td>\n",
              "    </tr>\n",
              "  </tbody>\n",
              "</table>\n",
              "<p>319 rows × 15 columns</p>\n",
              "</div>\n",
              "      <button class=\"colab-df-convert\" onclick=\"convertToInteractive('df-bfe897ab-6d68-4b13-a545-50ccb092ad09')\"\n",
              "              title=\"Convert this dataframe to an interactive table.\"\n",
              "              style=\"display:none;\">\n",
              "        \n",
              "  <svg xmlns=\"http://www.w3.org/2000/svg\" height=\"24px\"viewBox=\"0 0 24 24\"\n",
              "       width=\"24px\">\n",
              "    <path d=\"M0 0h24v24H0V0z\" fill=\"none\"/>\n",
              "    <path d=\"M18.56 5.44l.94 2.06.94-2.06 2.06-.94-2.06-.94-.94-2.06-.94 2.06-2.06.94zm-11 1L8.5 8.5l.94-2.06 2.06-.94-2.06-.94L8.5 2.5l-.94 2.06-2.06.94zm10 10l.94 2.06.94-2.06 2.06-.94-2.06-.94-.94-2.06-.94 2.06-2.06.94z\"/><path d=\"M17.41 7.96l-1.37-1.37c-.4-.4-.92-.59-1.43-.59-.52 0-1.04.2-1.43.59L10.3 9.45l-7.72 7.72c-.78.78-.78 2.05 0 2.83L4 21.41c.39.39.9.59 1.41.59.51 0 1.02-.2 1.41-.59l7.78-7.78 2.81-2.81c.8-.78.8-2.07 0-2.86zM5.41 20L4 18.59l7.72-7.72 1.47 1.35L5.41 20z\"/>\n",
              "  </svg>\n",
              "      </button>\n",
              "      \n",
              "  <style>\n",
              "    .colab-df-container {\n",
              "      display:flex;\n",
              "      flex-wrap:wrap;\n",
              "      gap: 12px;\n",
              "    }\n",
              "\n",
              "    .colab-df-convert {\n",
              "      background-color: #E8F0FE;\n",
              "      border: none;\n",
              "      border-radius: 50%;\n",
              "      cursor: pointer;\n",
              "      display: none;\n",
              "      fill: #1967D2;\n",
              "      height: 32px;\n",
              "      padding: 0 0 0 0;\n",
              "      width: 32px;\n",
              "    }\n",
              "\n",
              "    .colab-df-convert:hover {\n",
              "      background-color: #E2EBFA;\n",
              "      box-shadow: 0px 1px 2px rgba(60, 64, 67, 0.3), 0px 1px 3px 1px rgba(60, 64, 67, 0.15);\n",
              "      fill: #174EA6;\n",
              "    }\n",
              "\n",
              "    [theme=dark] .colab-df-convert {\n",
              "      background-color: #3B4455;\n",
              "      fill: #D2E3FC;\n",
              "    }\n",
              "\n",
              "    [theme=dark] .colab-df-convert:hover {\n",
              "      background-color: #434B5C;\n",
              "      box-shadow: 0px 1px 3px 1px rgba(0, 0, 0, 0.15);\n",
              "      filter: drop-shadow(0px 1px 2px rgba(0, 0, 0, 0.3));\n",
              "      fill: #FFFFFF;\n",
              "    }\n",
              "  </style>\n",
              "\n",
              "      <script>\n",
              "        const buttonEl =\n",
              "          document.querySelector('#df-bfe897ab-6d68-4b13-a545-50ccb092ad09 button.colab-df-convert');\n",
              "        buttonEl.style.display =\n",
              "          google.colab.kernel.accessAllowed ? 'block' : 'none';\n",
              "\n",
              "        async function convertToInteractive(key) {\n",
              "          const element = document.querySelector('#df-bfe897ab-6d68-4b13-a545-50ccb092ad09');\n",
              "          const dataTable =\n",
              "            await google.colab.kernel.invokeFunction('convertToInteractive',\n",
              "                                                     [key], {});\n",
              "          if (!dataTable) return;\n",
              "\n",
              "          const docLinkHtml = 'Like what you see? Visit the ' +\n",
              "            '<a target=\"_blank\" href=https://colab.research.google.com/notebooks/data_table.ipynb>data table notebook</a>'\n",
              "            + ' to learn more about interactive tables.';\n",
              "          element.innerHTML = '';\n",
              "          dataTable['output_type'] = 'display_data';\n",
              "          await google.colab.output.renderOutput(dataTable, element);\n",
              "          const docLink = document.createElement('div');\n",
              "          docLink.innerHTML = docLinkHtml;\n",
              "          element.appendChild(docLink);\n",
              "        }\n",
              "      </script>\n",
              "    </div>\n",
              "  </div>\n",
              "  "
            ]
          },
          "metadata": {},
          "execution_count": 6
        }
      ]
    },
    {
      "cell_type": "code",
      "source": [
        "df.info()"
      ],
      "metadata": {
        "colab": {
          "base_uri": "https://localhost:8080/"
        },
        "id": "r8cHbNzEDt6h",
        "outputId": "dd1fbc59-1cc2-4f33-c495-e44cfd11df6d"
      },
      "execution_count": 55,
      "outputs": [
        {
          "output_type": "stream",
          "name": "stdout",
          "text": [
            "<class 'pandas.core.frame.DataFrame'>\n",
            "RangeIndex: 319 entries, 0 to 318\n",
            "Data columns (total 15 columns):\n",
            " #   Column  Non-Null Count  Dtype  \n",
            "---  ------  --------------  -----  \n",
            " 0   mack    319 non-null    object \n",
            " 1   nam     319 non-null    int64  \n",
            " 2   size    319 non-null    float64\n",
            " 3   llp     319 non-null    float64\n",
            " 4   nim     319 non-null    float64\n",
            " 5   roe     319 non-null    float64\n",
            " 6   car     319 non-null    float64\n",
            " 7   lta     319 non-null    float64\n",
            " 8   eta     319 non-null    float64\n",
            " 9   lvr     319 non-null    float64\n",
            " 10  gdp     319 non-null    float64\n",
            " 11  inf     319 non-null    float64\n",
            " 12  fg      319 non-null    float64\n",
            " 13  ld      319 non-null    float64\n",
            " 14  la      319 non-null    float64\n",
            "dtypes: float64(13), int64(1), object(1)\n",
            "memory usage: 37.5+ KB\n"
          ]
        }
      ]
    },
    {
      "cell_type": "code",
      "source": [
        "multi_index_df = df.set_index(['mack', 'nam'])\n",
        "multi_index_df"
      ],
      "metadata": {
        "id": "LZ2a-0w4TEH8",
        "colab": {
          "base_uri": "https://localhost:8080/",
          "height": 455
        },
        "outputId": "fb8d9d17-0c2b-4a64-dd66-5da12f710a4a"
      },
      "execution_count": 7,
      "outputs": [
        {
          "output_type": "execute_result",
          "data": {
            "text/plain": [
              "             size     llp     nim     roe     car     lta     eta     lvr  \\\n",
              "mack nam                                                                    \n",
              "ABB  2011  7.6185  0.0162  0.0551  0.1058  0.1400  0.4718  0.1137  0.8863   \n",
              "     2012  7.6629  0.0225  0.0478  0.0638  0.1200  0.3986  0.1065  0.8935   \n",
              "     2013  7.7606  0.0284  0.0286  0.0750  0.1780  0.3990  0.0997  0.9003   \n",
              "     2014  7.8291  0.0186  0.0267  0.0245  0.1430  0.3779  0.0847  0.9153   \n",
              "     2015  7.8087  0.0126  0.0279  0.0203  0.1747  0.4743  0.0899  0.9101   \n",
              "...           ...     ...     ...     ...     ...     ...     ...     ...   \n",
              "VIB  2017  8.0905  0.0120  0.0326  0.0641  0.1307  0.6408  0.0714  0.9286   \n",
              "     2018  8.1435  0.0092  0.0390  0.1156  0.1290  0.6845  0.0767  0.9233   \n",
              "     2019  8.2661  0.0101  0.0425  0.1821  0.0967  0.6932  0.0728  0.9272   \n",
              "     2020  8.3886  0.0104  0.0455  0.2080  0.1012  0.6857  0.0735  0.9265   \n",
              "     2021  8.4907  0.0121  0.0487  0.2197  0.1172  0.6433  0.0785  0.9215   \n",
              "\n",
              "             gdp     inf      fg      ld      la  \n",
              "mack nam                                          \n",
              "ABB  2011  0.064  0.1868 -0.1418  0.7689  0.2223  \n",
              "     2012  0.055  0.0909 -0.3263  0.5499  0.2875  \n",
              "     2013  0.056  0.0659 -0.3057  0.5662  0.3114  \n",
              "     2014  0.064  0.0408 -0.2906  0.5653  0.3070  \n",
              "     2015  0.070  0.0063 -0.2641  0.6423  0.2163  \n",
              "...          ...     ...     ...     ...     ...  \n",
              "VIB  2017  0.069  0.0352  0.0122  1.0193  0.1208  \n",
              "     2018  0.072  0.0354  0.0018  1.0026  0.0861  \n",
              "     2019  0.072  0.0280 -0.0629  0.9169  0.1312  \n",
              "     2020  0.029  0.0322 -0.0455  0.9378  0.1242  \n",
              "     2021  0.026  0.0183 -0.0541  0.9224  0.1757  \n",
              "\n",
              "[319 rows x 13 columns]"
            ],
            "text/html": [
              "\n",
              "  <div id=\"df-b94c74d8-9432-4dce-a042-f753511418d7\">\n",
              "    <div class=\"colab-df-container\">\n",
              "      <div>\n",
              "<style scoped>\n",
              "    .dataframe tbody tr th:only-of-type {\n",
              "        vertical-align: middle;\n",
              "    }\n",
              "\n",
              "    .dataframe tbody tr th {\n",
              "        vertical-align: top;\n",
              "    }\n",
              "\n",
              "    .dataframe thead th {\n",
              "        text-align: right;\n",
              "    }\n",
              "</style>\n",
              "<table border=\"1\" class=\"dataframe\">\n",
              "  <thead>\n",
              "    <tr style=\"text-align: right;\">\n",
              "      <th></th>\n",
              "      <th></th>\n",
              "      <th>size</th>\n",
              "      <th>llp</th>\n",
              "      <th>nim</th>\n",
              "      <th>roe</th>\n",
              "      <th>car</th>\n",
              "      <th>lta</th>\n",
              "      <th>eta</th>\n",
              "      <th>lvr</th>\n",
              "      <th>gdp</th>\n",
              "      <th>inf</th>\n",
              "      <th>fg</th>\n",
              "      <th>ld</th>\n",
              "      <th>la</th>\n",
              "    </tr>\n",
              "    <tr>\n",
              "      <th>mack</th>\n",
              "      <th>nam</th>\n",
              "      <th></th>\n",
              "      <th></th>\n",
              "      <th></th>\n",
              "      <th></th>\n",
              "      <th></th>\n",
              "      <th></th>\n",
              "      <th></th>\n",
              "      <th></th>\n",
              "      <th></th>\n",
              "      <th></th>\n",
              "      <th></th>\n",
              "      <th></th>\n",
              "      <th></th>\n",
              "    </tr>\n",
              "  </thead>\n",
              "  <tbody>\n",
              "    <tr>\n",
              "      <th rowspan=\"5\" valign=\"top\">ABB</th>\n",
              "      <th>2011</th>\n",
              "      <td>7.6185</td>\n",
              "      <td>0.0162</td>\n",
              "      <td>0.0551</td>\n",
              "      <td>0.1058</td>\n",
              "      <td>0.1400</td>\n",
              "      <td>0.4718</td>\n",
              "      <td>0.1137</td>\n",
              "      <td>0.8863</td>\n",
              "      <td>0.064</td>\n",
              "      <td>0.1868</td>\n",
              "      <td>-0.1418</td>\n",
              "      <td>0.7689</td>\n",
              "      <td>0.2223</td>\n",
              "    </tr>\n",
              "    <tr>\n",
              "      <th>2012</th>\n",
              "      <td>7.6629</td>\n",
              "      <td>0.0225</td>\n",
              "      <td>0.0478</td>\n",
              "      <td>0.0638</td>\n",
              "      <td>0.1200</td>\n",
              "      <td>0.3986</td>\n",
              "      <td>0.1065</td>\n",
              "      <td>0.8935</td>\n",
              "      <td>0.055</td>\n",
              "      <td>0.0909</td>\n",
              "      <td>-0.3263</td>\n",
              "      <td>0.5499</td>\n",
              "      <td>0.2875</td>\n",
              "    </tr>\n",
              "    <tr>\n",
              "      <th>2013</th>\n",
              "      <td>7.7606</td>\n",
              "      <td>0.0284</td>\n",
              "      <td>0.0286</td>\n",
              "      <td>0.0750</td>\n",
              "      <td>0.1780</td>\n",
              "      <td>0.3990</td>\n",
              "      <td>0.0997</td>\n",
              "      <td>0.9003</td>\n",
              "      <td>0.056</td>\n",
              "      <td>0.0659</td>\n",
              "      <td>-0.3057</td>\n",
              "      <td>0.5662</td>\n",
              "      <td>0.3114</td>\n",
              "    </tr>\n",
              "    <tr>\n",
              "      <th>2014</th>\n",
              "      <td>7.8291</td>\n",
              "      <td>0.0186</td>\n",
              "      <td>0.0267</td>\n",
              "      <td>0.0245</td>\n",
              "      <td>0.1430</td>\n",
              "      <td>0.3779</td>\n",
              "      <td>0.0847</td>\n",
              "      <td>0.9153</td>\n",
              "      <td>0.064</td>\n",
              "      <td>0.0408</td>\n",
              "      <td>-0.2906</td>\n",
              "      <td>0.5653</td>\n",
              "      <td>0.3070</td>\n",
              "    </tr>\n",
              "    <tr>\n",
              "      <th>2015</th>\n",
              "      <td>7.8087</td>\n",
              "      <td>0.0126</td>\n",
              "      <td>0.0279</td>\n",
              "      <td>0.0203</td>\n",
              "      <td>0.1747</td>\n",
              "      <td>0.4743</td>\n",
              "      <td>0.0899</td>\n",
              "      <td>0.9101</td>\n",
              "      <td>0.070</td>\n",
              "      <td>0.0063</td>\n",
              "      <td>-0.2641</td>\n",
              "      <td>0.6423</td>\n",
              "      <td>0.2163</td>\n",
              "    </tr>\n",
              "    <tr>\n",
              "      <th>...</th>\n",
              "      <th>...</th>\n",
              "      <td>...</td>\n",
              "      <td>...</td>\n",
              "      <td>...</td>\n",
              "      <td>...</td>\n",
              "      <td>...</td>\n",
              "      <td>...</td>\n",
              "      <td>...</td>\n",
              "      <td>...</td>\n",
              "      <td>...</td>\n",
              "      <td>...</td>\n",
              "      <td>...</td>\n",
              "      <td>...</td>\n",
              "      <td>...</td>\n",
              "    </tr>\n",
              "    <tr>\n",
              "      <th rowspan=\"5\" valign=\"top\">VIB</th>\n",
              "      <th>2017</th>\n",
              "      <td>8.0905</td>\n",
              "      <td>0.0120</td>\n",
              "      <td>0.0326</td>\n",
              "      <td>0.0641</td>\n",
              "      <td>0.1307</td>\n",
              "      <td>0.6408</td>\n",
              "      <td>0.0714</td>\n",
              "      <td>0.9286</td>\n",
              "      <td>0.069</td>\n",
              "      <td>0.0352</td>\n",
              "      <td>0.0122</td>\n",
              "      <td>1.0193</td>\n",
              "      <td>0.1208</td>\n",
              "    </tr>\n",
              "    <tr>\n",
              "      <th>2018</th>\n",
              "      <td>8.1435</td>\n",
              "      <td>0.0092</td>\n",
              "      <td>0.0390</td>\n",
              "      <td>0.1156</td>\n",
              "      <td>0.1290</td>\n",
              "      <td>0.6845</td>\n",
              "      <td>0.0767</td>\n",
              "      <td>0.9233</td>\n",
              "      <td>0.072</td>\n",
              "      <td>0.0354</td>\n",
              "      <td>0.0018</td>\n",
              "      <td>1.0026</td>\n",
              "      <td>0.0861</td>\n",
              "    </tr>\n",
              "    <tr>\n",
              "      <th>2019</th>\n",
              "      <td>8.2661</td>\n",
              "      <td>0.0101</td>\n",
              "      <td>0.0425</td>\n",
              "      <td>0.1821</td>\n",
              "      <td>0.0967</td>\n",
              "      <td>0.6932</td>\n",
              "      <td>0.0728</td>\n",
              "      <td>0.9272</td>\n",
              "      <td>0.072</td>\n",
              "      <td>0.0280</td>\n",
              "      <td>-0.0629</td>\n",
              "      <td>0.9169</td>\n",
              "      <td>0.1312</td>\n",
              "    </tr>\n",
              "    <tr>\n",
              "      <th>2020</th>\n",
              "      <td>8.3886</td>\n",
              "      <td>0.0104</td>\n",
              "      <td>0.0455</td>\n",
              "      <td>0.2080</td>\n",
              "      <td>0.1012</td>\n",
              "      <td>0.6857</td>\n",
              "      <td>0.0735</td>\n",
              "      <td>0.9265</td>\n",
              "      <td>0.029</td>\n",
              "      <td>0.0322</td>\n",
              "      <td>-0.0455</td>\n",
              "      <td>0.9378</td>\n",
              "      <td>0.1242</td>\n",
              "    </tr>\n",
              "    <tr>\n",
              "      <th>2021</th>\n",
              "      <td>8.4907</td>\n",
              "      <td>0.0121</td>\n",
              "      <td>0.0487</td>\n",
              "      <td>0.2197</td>\n",
              "      <td>0.1172</td>\n",
              "      <td>0.6433</td>\n",
              "      <td>0.0785</td>\n",
              "      <td>0.9215</td>\n",
              "      <td>0.026</td>\n",
              "      <td>0.0183</td>\n",
              "      <td>-0.0541</td>\n",
              "      <td>0.9224</td>\n",
              "      <td>0.1757</td>\n",
              "    </tr>\n",
              "  </tbody>\n",
              "</table>\n",
              "<p>319 rows × 13 columns</p>\n",
              "</div>\n",
              "      <button class=\"colab-df-convert\" onclick=\"convertToInteractive('df-b94c74d8-9432-4dce-a042-f753511418d7')\"\n",
              "              title=\"Convert this dataframe to an interactive table.\"\n",
              "              style=\"display:none;\">\n",
              "        \n",
              "  <svg xmlns=\"http://www.w3.org/2000/svg\" height=\"24px\"viewBox=\"0 0 24 24\"\n",
              "       width=\"24px\">\n",
              "    <path d=\"M0 0h24v24H0V0z\" fill=\"none\"/>\n",
              "    <path d=\"M18.56 5.44l.94 2.06.94-2.06 2.06-.94-2.06-.94-.94-2.06-.94 2.06-2.06.94zm-11 1L8.5 8.5l.94-2.06 2.06-.94-2.06-.94L8.5 2.5l-.94 2.06-2.06.94zm10 10l.94 2.06.94-2.06 2.06-.94-2.06-.94-.94-2.06-.94 2.06-2.06.94z\"/><path d=\"M17.41 7.96l-1.37-1.37c-.4-.4-.92-.59-1.43-.59-.52 0-1.04.2-1.43.59L10.3 9.45l-7.72 7.72c-.78.78-.78 2.05 0 2.83L4 21.41c.39.39.9.59 1.41.59.51 0 1.02-.2 1.41-.59l7.78-7.78 2.81-2.81c.8-.78.8-2.07 0-2.86zM5.41 20L4 18.59l7.72-7.72 1.47 1.35L5.41 20z\"/>\n",
              "  </svg>\n",
              "      </button>\n",
              "      \n",
              "  <style>\n",
              "    .colab-df-container {\n",
              "      display:flex;\n",
              "      flex-wrap:wrap;\n",
              "      gap: 12px;\n",
              "    }\n",
              "\n",
              "    .colab-df-convert {\n",
              "      background-color: #E8F0FE;\n",
              "      border: none;\n",
              "      border-radius: 50%;\n",
              "      cursor: pointer;\n",
              "      display: none;\n",
              "      fill: #1967D2;\n",
              "      height: 32px;\n",
              "      padding: 0 0 0 0;\n",
              "      width: 32px;\n",
              "    }\n",
              "\n",
              "    .colab-df-convert:hover {\n",
              "      background-color: #E2EBFA;\n",
              "      box-shadow: 0px 1px 2px rgba(60, 64, 67, 0.3), 0px 1px 3px 1px rgba(60, 64, 67, 0.15);\n",
              "      fill: #174EA6;\n",
              "    }\n",
              "\n",
              "    [theme=dark] .colab-df-convert {\n",
              "      background-color: #3B4455;\n",
              "      fill: #D2E3FC;\n",
              "    }\n",
              "\n",
              "    [theme=dark] .colab-df-convert:hover {\n",
              "      background-color: #434B5C;\n",
              "      box-shadow: 0px 1px 3px 1px rgba(0, 0, 0, 0.15);\n",
              "      filter: drop-shadow(0px 1px 2px rgba(0, 0, 0, 0.3));\n",
              "      fill: #FFFFFF;\n",
              "    }\n",
              "  </style>\n",
              "\n",
              "      <script>\n",
              "        const buttonEl =\n",
              "          document.querySelector('#df-b94c74d8-9432-4dce-a042-f753511418d7 button.colab-df-convert');\n",
              "        buttonEl.style.display =\n",
              "          google.colab.kernel.accessAllowed ? 'block' : 'none';\n",
              "\n",
              "        async function convertToInteractive(key) {\n",
              "          const element = document.querySelector('#df-b94c74d8-9432-4dce-a042-f753511418d7');\n",
              "          const dataTable =\n",
              "            await google.colab.kernel.invokeFunction('convertToInteractive',\n",
              "                                                     [key], {});\n",
              "          if (!dataTable) return;\n",
              "\n",
              "          const docLinkHtml = 'Like what you see? Visit the ' +\n",
              "            '<a target=\"_blank\" href=https://colab.research.google.com/notebooks/data_table.ipynb>data table notebook</a>'\n",
              "            + ' to learn more about interactive tables.';\n",
              "          element.innerHTML = '';\n",
              "          dataTable['output_type'] = 'display_data';\n",
              "          await google.colab.output.renderOutput(dataTable, element);\n",
              "          const docLink = document.createElement('div');\n",
              "          docLink.innerHTML = docLinkHtml;\n",
              "          element.appendChild(docLink);\n",
              "        }\n",
              "      </script>\n",
              "    </div>\n",
              "  </div>\n",
              "  "
            ]
          },
          "metadata": {},
          "execution_count": 7
        }
      ]
    },
    {
      "cell_type": "code",
      "source": [
        "boxplot = multi_index_df.boxplot(grid=False, rot=45, fontsize=15)  "
      ],
      "metadata": {
        "colab": {
          "base_uri": "https://localhost:8080/",
          "height": 459
        },
        "id": "vJ5n_hpXu1bP",
        "outputId": "508091b5-dac7-41f0-e866-1a3a2216aa5e"
      },
      "execution_count": 9,
      "outputs": [
        {
          "output_type": "display_data",
          "data": {
            "text/plain": [
              "<Figure size 640x480 with 1 Axes>"
            ],
            "image/png": "[encoded data removed]"
          },
          "metadata": {}
        }
      ]
    },
    {
      "cell_type": "code",
      "source": [
        "boxplot = df.boxplot(column=['llp', 'nim', 'roe','car',\t'lta',\t'eta',\t'lvr',\t'gdp',\t'inf',\t'fg'\t,'ld',\t'la'])  "
      ],
      "metadata": {
        "colab": {
          "base_uri": "https://localhost:8080/",
          "height": 430
        },
        "id": "EdlK5ONXvlsS",
        "outputId": "14ad8bf9-e3b6-42b7-a0ab-39371678726e"
      },
      "execution_count": 10,
      "outputs": [
        {
          "output_type": "display_data",
          "data": {
            "text/plain": [
              "<Figure size 640x480 with 1 Axes>"
            ],
            "image/png": "[encoded data removed]"
          },
          "metadata": {}
        }
      ]
    },
    {
      "cell_type": "code",
      "source": [
        "multi_index_df.describe()"
      ],
      "metadata": {
        "colab": {
          "base_uri": "https://localhost:8080/",
          "height": 300
        },
        "id": "G_UQ_N3qsvNg",
        "outputId": "f5042005-dff9-422f-d933-1f2bae522bdc"
      },
      "execution_count": 11,
      "outputs": [
        {
          "output_type": "execute_result",
          "data": {
            "text/plain": [
              "             size         llp         nim         roe         car         lta  \\\n",
              "count  319.000000  319.000000  319.000000  319.000000  319.000000  319.000000   \n",
              "mean     8.111280    0.013703    0.031896    0.079888    0.128687    0.563933   \n",
              "std      0.519823    0.005263    0.014831    0.066516    0.077425    0.123097   \n",
              "min      7.121400    0.005500    0.000000   -0.549600    0.000000    0.144800   \n",
              "25%      7.741600    0.010200    0.021900    0.034900    0.100850    0.478200   \n",
              "50%      8.096400    0.012100    0.030100    0.074300    0.118100    0.579600   \n",
              "75%      8.492100    0.015800    0.037700    0.117900    0.144750    0.661700   \n",
              "max      9.245900    0.041400    0.138600    0.261000    0.995000    0.788100   \n",
              "\n",
              "              eta         lvr         gdp         inf          fg          ld  \\\n",
              "count  319.000000  319.000000  319.000000  319.000000  319.000000  319.000000   \n",
              "mean     0.089020    0.910963    0.058545    0.051500   -0.140338    0.803187   \n",
              "std      0.038554    0.038557    0.015647    0.048119    0.103756    0.156592   \n",
              "min      0.027000    0.761700    0.026000    0.006300   -0.420700    0.343400   \n",
              "25%      0.062300    0.896200    0.055000    0.026700   -0.213900    0.708250   \n",
              "50%      0.078300    0.921700    0.064000    0.035200   -0.132400    0.819700   \n",
              "75%      0.103800    0.937700    0.070000    0.065900   -0.070350    0.899100   \n",
              "max      0.238300    0.973100    0.072000    0.186800    0.282600    1.770300   \n",
              "\n",
              "               la  \n",
              "count  319.000000  \n",
              "mean     0.186070  \n",
              "std      0.187204  \n",
              "min      0.016400  \n",
              "25%      0.109650  \n",
              "50%      0.155200  \n",
              "75%      0.211150  \n",
              "max      1.987100  "
            ],
            "text/html": [
              "\n",
              "  <div id=\"df-f78a67a4-67f0-46c6-ad61-15f75ac9b665\">\n",
              "    <div class=\"colab-df-container\">\n",
              "      <div>\n",
              "<style scoped>\n",
              "    .dataframe tbody tr th:only-of-type {\n",
              "        vertical-align: middle;\n",
              "    }\n",
              "\n",
              "    .dataframe tbody tr th {\n",
              "        vertical-align: top;\n",
              "    }\n",
              "\n",
              "    .dataframe thead th {\n",
              "        text-align: right;\n",
              "    }\n",
              "</style>\n",
              "<table border=\"1\" class=\"dataframe\">\n",
              "  <thead>\n",
              "    <tr style=\"text-align: right;\">\n",
              "      <th></th>\n",
              "      <th>size</th>\n",
              "      <th>llp</th>\n",
              "      <th>nim</th>\n",
              "      <th>roe</th>\n",
              "      <th>car</th>\n",
              "      <th>lta</th>\n",
              "      <th>eta</th>\n",
              "      <th>lvr</th>\n",
              "      <th>gdp</th>\n",
              "      <th>inf</th>\n",
              "      <th>fg</th>\n",
              "      <th>ld</th>\n",
              "      <th>la</th>\n",
              "    </tr>\n",
              "  </thead>\n",
              "  <tbody>\n",
              "    <tr>\n",
              "      <th>count</th>\n",
              "      <td>319.000000</td>\n",
              "      <td>319.000000</td>\n",
              "      <td>319.000000</td>\n",
              "      <td>319.000000</td>\n",
              "      <td>319.000000</td>\n",
              "      <td>319.000000</td>\n",
              "      <td>319.000000</td>\n",
              "      <td>319.000000</td>\n",
              "      <td>319.000000</td>\n",
              "      <td>319.000000</td>\n",
              "      <td>319.000000</td>\n",
              "      <td>319.000000</td>\n",
              "      <td>319.000000</td>\n",
              "    </tr>\n",
              "    <tr>\n",
              "      <th>mean</th>\n",
              "      <td>8.111280</td>\n",
              "      <td>0.013703</td>\n",
              "      <td>0.031896</td>\n",
              "      <td>0.079888</td>\n",
              "      <td>0.128687</td>\n",
              "      <td>0.563933</td>\n",
              "      <td>0.089020</td>\n",
              "      <td>0.910963</td>\n",
              "      <td>0.058545</td>\n",
              "      <td>0.051500</td>\n",
              "      <td>-0.140338</td>\n",
              "      <td>0.803187</td>\n",
              "      <td>0.186070</td>\n",
              "    </tr>\n",
              "    <tr>\n",
              "      <th>std</th>\n",
              "      <td>0.519823</td>\n",
              "      <td>0.005263</td>\n",
              "      <td>0.014831</td>\n",
              "      <td>0.066516</td>\n",
              "      <td>0.077425</td>\n",
              "      <td>0.123097</td>\n",
              "      <td>0.038554</td>\n",
              "      <td>0.038557</td>\n",
              "      <td>0.015647</td>\n",
              "      <td>0.048119</td>\n",
              "      <td>0.103756</td>\n",
              "      <td>0.156592</td>\n",
              "      <td>0.187204</td>\n",
              "    </tr>\n",
              "    <tr>\n",
              "      <th>min</th>\n",
              "      <td>7.121400</td>\n",
              "      <td>0.005500</td>\n",
              "      <td>0.000000</td>\n",
              "      <td>-0.549600</td>\n",
              "      <td>0.000000</td>\n",
              "      <td>0.144800</td>\n",
              "      <td>0.027000</td>\n",
              "      <td>0.761700</td>\n",
              "      <td>0.026000</td>\n",
              "      <td>0.006300</td>\n",
              "      <td>-0.420700</td>\n",
              "      <td>0.343400</td>\n",
              "      <td>0.016400</td>\n",
              "    </tr>\n",
              "    <tr>\n",
              "      <th>25%</th>\n",
              "      <td>7.741600</td>\n",
              "      <td>0.010200</td>\n",
              "      <td>0.021900</td>\n",
              "      <td>0.034900</td>\n",
              "      <td>0.100850</td>\n",
              "      <td>0.478200</td>\n",
              "      <td>0.062300</td>\n",
              "      <td>0.896200</td>\n",
              "      <td>0.055000</td>\n",
              "      <td>0.026700</td>\n",
              "      <td>-0.213900</td>\n",
              "      <td>0.708250</td>\n",
              "      <td>0.109650</td>\n",
              "    </tr>\n",
              "    <tr>\n",
              "      <th>50%</th>\n",
              "      <td>8.096400</td>\n",
              "      <td>0.012100</td>\n",
              "      <td>0.030100</td>\n",
              "      <td>0.074300</td>\n",
              "      <td>0.118100</td>\n",
              "      <td>0.579600</td>\n",
              "      <td>0.078300</td>\n",
              "      <td>0.921700</td>\n",
              "      <td>0.064000</td>\n",
              "      <td>0.035200</td>\n",
              "      <td>-0.132400</td>\n",
              "      <td>0.819700</td>\n",
              "      <td>0.155200</td>\n",
              "    </tr>\n",
              "    <tr>\n",
              "      <th>75%</th>\n",
              "      <td>8.492100</td>\n",
              "      <td>0.015800</td>\n",
              "      <td>0.037700</td>\n",
              "      <td>0.117900</td>\n",
              "      <td>0.144750</td>\n",
              "      <td>0.661700</td>\n",
              "      <td>0.103800</td>\n",
              "      <td>0.937700</td>\n",
              "      <td>0.070000</td>\n",
              "      <td>0.065900</td>\n",
              "      <td>-0.070350</td>\n",
              "      <td>0.899100</td>\n",
              "      <td>0.211150</td>\n",
              "    </tr>\n",
              "    <tr>\n",
              "      <th>max</th>\n",
              "      <td>9.245900</td>\n",
              "      <td>0.041400</td>\n",
              "      <td>0.138600</td>\n",
              "      <td>0.261000</td>\n",
              "      <td>0.995000</td>\n",
              "      <td>0.788100</td>\n",
              "      <td>0.238300</td>\n",
              "      <td>0.973100</td>\n",
              "      <td>0.072000</td>\n",
              "      <td>0.186800</td>\n",
              "      <td>0.282600</td>\n",
              "      <td>1.770300</td>\n",
              "      <td>1.987100</td>\n",
              "    </tr>\n",
              "  </tbody>\n",
              "</table>\n",
              "</div>\n",
              "      <button class=\"colab-df-convert\" onclick=\"convertToInteractive('df-f78a67a4-67f0-46c6-ad61-15f75ac9b665')\"\n",
              "              title=\"Convert this dataframe to an interactive table.\"\n",
              "              style=\"display:none;\">\n",
              "        \n",
              "  <svg xmlns=\"http://www.w3.org/2000/svg\" height=\"24px\"viewBox=\"0 0 24 24\"\n",
              "       width=\"24px\">\n",
              "    <path d=\"M0 0h24v24H0V0z\" fill=\"none\"/>\n",
              "    <path d=\"M18.56 5.44l.94 2.06.94-2.06 2.06-.94-2.06-.94-.94-2.06-.94 2.06-2.06.94zm-11 1L8.5 8.5l.94-2.06 2.06-.94-2.06-.94L8.5 2.5l-.94 2.06-2.06.94zm10 10l.94 2.06.94-2.06 2.06-.94-2.06-.94-.94-2.06-.94 2.06-2.06.94z\"/><path d=\"M17.41 7.96l-1.37-1.37c-.4-.4-.92-.59-1.43-.59-.52 0-1.04.2-1.43.59L10.3 9.45l-7.72 7.72c-.78.78-.78 2.05 0 2.83L4 21.41c.39.39.9.59 1.41.59.51 0 1.02-.2 1.41-.59l7.78-7.78 2.81-2.81c.8-.78.8-2.07 0-2.86zM5.41 20L4 18.59l7.72-7.72 1.47 1.35L5.41 20z\"/>\n",
              "  </svg>\n",
              "      </button>\n",
              "      \n",
              "  <style>\n",
              "    .colab-df-container {\n",
              "      display:flex;\n",
              "      flex-wrap:wrap;\n",
              "      gap: 12px;\n",
              "    }\n",
              "\n",
              "    .colab-df-convert {\n",
              "      background-color: #E8F0FE;\n",
              "      border: none;\n",
              "      border-radius: 50%;\n",
              "      cursor: pointer;\n",
              "      display: none;\n",
              "      fill: #1967D2;\n",
              "      height: 32px;\n",
              "      padding: 0 0 0 0;\n",
              "      width: 32px;\n",
              "    }\n",
              "\n",
              "    .colab-df-convert:hover {\n",
              "      background-color: #E2EBFA;\n",
              "      box-shadow: 0px 1px 2px rgba(60, 64, 67, 0.3), 0px 1px 3px 1px rgba(60, 64, 67, 0.15);\n",
              "      fill: #174EA6;\n",
              "    }\n",
              "\n",
              "    [theme=dark] .colab-df-convert {\n",
              "      background-color: #3B4455;\n",
              "      fill: #D2E3FC;\n",
              "    }\n",
              "\n",
              "    [theme=dark] .colab-df-convert:hover {\n",
              "      background-color: #434B5C;\n",
              "      box-shadow: 0px 1px 3px 1px rgba(0, 0, 0, 0.15);\n",
              "      filter: drop-shadow(0px 1px 2px rgba(0, 0, 0, 0.3));\n",
              "      fill: #FFFFFF;\n",
              "    }\n",
              "  </style>\n",
              "\n",
              "      <script>\n",
              "        const buttonEl =\n",
              "          document.querySelector('#df-f78a67a4-67f0-46c6-ad61-15f75ac9b665 button.colab-df-convert');\n",
              "        buttonEl.style.display =\n",
              "          google.colab.kernel.accessAllowed ? 'block' : 'none';\n",
              "\n",
              "        async function convertToInteractive(key) {\n",
              "          const element = document.querySelector('#df-f78a67a4-67f0-46c6-ad61-15f75ac9b665');\n",
              "          const dataTable =\n",
              "            await google.colab.kernel.invokeFunction('convertToInteractive',\n",
              "                                                     [key], {});\n",
              "          if (!dataTable) return;\n",
              "\n",
              "          const docLinkHtml = 'Like what you see? Visit the ' +\n",
              "            '<a target=\"_blank\" href=https://colab.research.google.com/notebooks/data_table.ipynb>data table notebook</a>'\n",
              "            + ' to learn more about interactive tables.';\n",
              "          element.innerHTML = '';\n",
              "          dataTable['output_type'] = 'display_data';\n",
              "          await google.colab.output.renderOutput(dataTable, element);\n",
              "          const docLink = document.createElement('div');\n",
              "          docLink.innerHTML = docLinkHtml;\n",
              "          element.appendChild(docLink);\n",
              "        }\n",
              "      </script>\n",
              "    </div>\n",
              "  </div>\n",
              "  "
            ]
          },
          "metadata": {},
          "execution_count": 11
        }
      ]
    },
    {
      "cell_type": "code",
      "source": [
        "y = multi_index_df ['la']\n",
        "X = multi_index_df [['size', 'llp', 'nim','roe','car','lta','eta','gdp','inf','lvr','fg','ld']]"
      ],
      "metadata": {
        "id": "OLNGR0tCRyZE"
      },
      "execution_count": 36,
      "outputs": []
    },
    {
      "cell_type": "code",
      "source": [
        "correlation_matrix = multi_index_df.corr()\n",
        "print(correlation_matrix)"
      ],
      "metadata": {
        "colab": {
          "base_uri": "https://localhost:8080/"
        },
        "id": "DtGFNBB2y_z3",
        "outputId": "32f287f8-2ea4-4403-8ff2-b20a6b428a36"
      },
      "execution_count": 13,
      "outputs": [
        {
          "output_type": "stream",
          "name": "stdout",
          "text": [
            "          size       llp       nim       roe       car       lta       eta  \\\n",
            "size  1.000000  0.286546  0.079004  0.423512 -0.285385  0.351355 -0.621488   \n",
            "llp   0.286546  1.000000  0.135483  0.128020 -0.080806 -0.051750 -0.087221   \n",
            "nim   0.079004  0.135483  1.000000  0.396346  0.067340  0.209207  0.288105   \n",
            "roe   0.423512  0.128020  0.396346  1.000000 -0.193969  0.188554 -0.129429   \n",
            "car  -0.285385 -0.080806  0.067340 -0.193969  1.000000 -0.063840  0.452615   \n",
            "lta   0.351355 -0.051750  0.209207  0.188554 -0.063840  1.000000 -0.097015   \n",
            "eta  -0.621488 -0.087221  0.288105 -0.129429  0.452615 -0.097015  1.000000   \n",
            "lvr   0.621041  0.087927 -0.288281  0.129480 -0.452580  0.097035 -0.999956   \n",
            "gdp  -0.151649 -0.114162 -0.057329 -0.166973  0.075508 -0.001024 -0.018110   \n",
            "inf  -0.253398  0.176991  0.174337  0.115472  0.111674 -0.314100  0.252339   \n",
            "fg    0.007160 -0.086128  0.266493  0.223500  0.073559  0.517009  0.235593   \n",
            "ld    0.088004 -0.102684  0.288740  0.217803  0.057284  0.655405  0.172022   \n",
            "la   -0.185500 -0.024864 -0.088402  0.097751  0.142857 -0.155648  0.151453   \n",
            "\n",
            "           lvr       gdp       inf        fg        ld        la  \n",
            "size  0.621041 -0.151649 -0.253398  0.007160  0.088004 -0.185500  \n",
            "llp   0.087927 -0.114162  0.176991 -0.086128 -0.102684 -0.024864  \n",
            "nim  -0.288281 -0.057329  0.174337  0.266493  0.288740 -0.088402  \n",
            "roe   0.129480 -0.166973  0.115472  0.223500  0.217803  0.097751  \n",
            "car  -0.452580  0.075508  0.111674  0.073559  0.057284  0.142857  \n",
            "lta   0.097035 -0.001024 -0.314100  0.517009  0.655405 -0.155648  \n",
            "eta  -0.999956 -0.018110  0.252339  0.235593  0.172022  0.151453  \n",
            "lvr   1.000000  0.017978 -0.252080 -0.235497 -0.171978 -0.151153  \n",
            "gdp   0.017978  1.000000  0.087618 -0.025158 -0.042841 -0.072265  \n",
            "inf  -0.252080  0.087618  1.000000  0.057674 -0.028723  0.170804  \n",
            "fg   -0.235497 -0.025158  0.057674  1.000000  0.952026  0.013879  \n",
            "ld   -0.171978 -0.042841 -0.028723  0.952026  1.000000 -0.055668  \n",
            "la   -0.151153 -0.072265  0.170804  0.013879 -0.055668  1.000000  \n"
          ]
        }
      ]
    },
    {
      "cell_type": "code",
      "source": [
        "ols_model = sm.OLS(multi_index_df ['la'], sm.add_constant(multi_index_df [['size', 'llp', 'nim','roe','car','lta','eta','gdp','inf']])).fit()\n",
        "print(\"Ordinary Least Squares (OLS):\")\n",
        "print(ols_model.summary())"
      ],
      "metadata": {
        "colab": {
          "base_uri": "https://localhost:8080/"
        },
        "id": "uXSf8WeS0Gg0",
        "outputId": "a07af4a9-5ee8-4ea1-b8e1-16e565b85473"
      },
      "execution_count": 14,
      "outputs": [
        {
          "output_type": "stream",
          "name": "stdout",
          "text": [
            "Ordinary Least Squares (OLS):\n",
            "                            OLS Regression Results                            \n",
            "==============================================================================\n",
            "Dep. Variable:                     la   R-squared:                       0.138\n",
            "Model:                            OLS   Adj. R-squared:                  0.113\n",
            "Method:                 Least Squares   F-statistic:                     5.492\n",
            "Date:                Sat, 03 Jun 2023   Prob (F-statistic):           5.16e-07\n",
            "Time:                        14:08:56   Log-Likelihood:                 106.03\n",
            "No. Observations:                 319   AIC:                            -192.1\n",
            "Df Residuals:                     309   BIC:                            -154.4\n",
            "Df Model:                           9                                         \n",
            "Covariance Type:            nonrobust                                         \n",
            "==============================================================================\n",
            "                 coef    std err          t      P>|t|      [0.025      0.975]\n",
            "------------------------------------------------------------------------------\n",
            "const          0.8295      0.261      3.182      0.002       0.317       1.342\n",
            "size          -0.0737      0.031     -2.341      0.020      -0.136      -0.012\n",
            "llp            0.4361      2.086      0.209      0.835      -3.669       4.541\n",
            "nim           -2.7113      0.815     -3.328      0.001      -4.314      -1.108\n",
            "roe            0.7983      0.187      4.263      0.000       0.430       1.167\n",
            "car            0.3195      0.146      2.186      0.030       0.032       0.607\n",
            "lta           -0.0791      0.094     -0.845      0.399      -0.263       0.105\n",
            "eta            0.1710      0.400      0.427      0.670      -0.617       0.959\n",
            "gdp           -1.0052      0.660     -1.522      0.129      -2.305       0.294\n",
            "inf            0.3458      0.240      1.440      0.151      -0.127       0.818\n",
            "==============================================================================\n",
            "Omnibus:                      417.353   Durbin-Watson:                   0.800\n",
            "Prob(Omnibus):                  0.000   Jarque-Bera (JB):            37388.113\n",
            "Skew:                           6.148   Prob(JB):                         0.00\n",
            "Kurtosis:                      54.592   Cond. No.                     1.74e+03\n",
            "==============================================================================\n",
            "\n",
            "Notes:\n",
            "[1] Standard Errors assume that the covariance matrix of the errors is correctly specified.\n",
            "[2] The condition number is large, 1.74e+03. This might indicate that there are\n",
            "strong multicollinearity or other numerical problems.\n"
          ]
        }
      ]
    },
    {
      "cell_type": "code",
      "source": [
        "fem_model = sm.OLS(df['la'], sm.add_constant(df[['size', 'llp', 'nim','roe','car','lta','eta','gdp','inf']])).fit(cov_type='cluster', cov_kwds={'groups': df['mack']})\n",
        "print(\"Fixed Effects Model:\")\n",
        "print(fem_model.summary())"
      ],
      "metadata": {
        "colab": {
          "base_uri": "https://localhost:8080/"
        },
        "id": "H94LZN8CiS_-",
        "outputId": "e1ab1ee0-a4e6-4783-e2d1-d8e4362a1916"
      },
      "execution_count": 15,
      "outputs": [
        {
          "output_type": "stream",
          "name": "stdout",
          "text": [
            "Fixed Effects Model:\n",
            "                            OLS Regression Results                            \n",
            "==============================================================================\n",
            "Dep. Variable:                     la   R-squared:                       0.138\n",
            "Model:                            OLS   Adj. R-squared:                  0.113\n",
            "Method:                 Least Squares   F-statistic:                     4.369\n",
            "Date:                Sat, 03 Jun 2023   Prob (F-statistic):            0.00124\n",
            "Time:                        14:08:59   Log-Likelihood:                 106.03\n",
            "No. Observations:                 319   AIC:                            -192.1\n",
            "Df Residuals:                     309   BIC:                            -154.4\n",
            "Df Model:                           9                                         \n",
            "Covariance Type:              cluster                                         \n",
            "==============================================================================\n",
            "                 coef    std err          z      P>|z|      [0.025      0.975]\n",
            "------------------------------------------------------------------------------\n",
            "const          0.8295      0.304      2.726      0.006       0.233       1.426\n",
            "size          -0.0737      0.047     -1.551      0.121      -0.167       0.019\n",
            "llp            0.4361      1.714      0.254      0.799      -2.923       3.796\n",
            "nim           -2.7113      1.844     -1.471      0.141      -6.325       0.902\n",
            "roe            0.7983      0.434      1.840      0.066      -0.052       1.649\n",
            "car            0.3195      0.274      1.165      0.244      -0.218       0.857\n",
            "lta           -0.0791      0.167     -0.473      0.636      -0.407       0.249\n",
            "eta            0.1710      0.731      0.234      0.815      -1.262       1.604\n",
            "gdp           -1.0052      0.469     -2.145      0.032      -1.924      -0.087\n",
            "inf            0.3458      0.149      2.314      0.021       0.053       0.639\n",
            "==============================================================================\n",
            "Omnibus:                      417.353   Durbin-Watson:                   0.800\n",
            "Prob(Omnibus):                  0.000   Jarque-Bera (JB):            37388.113\n",
            "Skew:                           6.148   Prob(JB):                         0.00\n",
            "Kurtosis:                      54.592   Cond. No.                     1.74e+03\n",
            "==============================================================================\n",
            "\n",
            "Notes:\n",
            "[1] Standard Errors are robust to cluster correlation (cluster)\n",
            "[2] The condition number is large, 1.74e+03. This might indicate that there are\n",
            "strong multicollinearity or other numerical problems.\n"
          ]
        }
      ]
    },
    {
      "cell_type": "code",
      "source": [
        "rem_model = sm.MixedLM(df['la'], sm.add_constant(df[['size', 'llp', 'nim','roe','car','lta','eta','gdp','inf']]), groups=df['mack'])\n",
        "rem_result = rem_model.fit()\n",
        "print(\"Random Effects Model:\")\n",
        "print(rem_result.summary())\n"
      ],
      "metadata": {
        "colab": {
          "base_uri": "https://localhost:8080/"
        },
        "id": "J7pIER8UjDRh",
        "outputId": "ee953b1a-4da5-4bd4-90d9-8564d1e34308"
      },
      "execution_count": 17,
      "outputs": [
        {
          "output_type": "stream",
          "name": "stdout",
          "text": [
            "Random Effects Model:\n",
            "        Mixed Linear Model Regression Results\n",
            "======================================================\n",
            "Model:            MixedLM Dependent Variable: la      \n",
            "No. Observations: 319     Method:             REML    \n",
            "No. Groups:       29      Scale:              0.0226  \n",
            "Min. group size:  11      Log-Likelihood:     124.9731\n",
            "Max. group size:  11      Converged:          Yes     \n",
            "Mean group size:  11.0                                \n",
            "------------------------------------------------------\n",
            "            Coef.  Std.Err.   z    P>|z| [0.025 0.975]\n",
            "------------------------------------------------------\n",
            "const        0.624    0.373  1.672 0.095 -0.107  1.355\n",
            "size        -0.040    0.045 -0.899 0.369 -0.127  0.047\n",
            "llp         -0.132    2.086 -0.063 0.949 -4.221  3.957\n",
            "nim         -3.009    0.893 -3.368 0.001 -4.759 -1.258\n",
            "roe          0.670    0.176  3.801 0.000  0.324  1.015\n",
            "car          0.136    0.131  1.038 0.299 -0.121  0.393\n",
            "lta         -0.195    0.109 -1.788 0.074 -0.408  0.019\n",
            "eta          0.653    0.410  1.592 0.111 -0.151  1.456\n",
            "gdp         -0.870    0.589 -1.477 0.140 -2.025  0.285\n",
            "inf          0.324    0.232  1.396 0.163 -0.131  0.779\n",
            "Group Var    0.009    0.022                           \n",
            "======================================================\n",
            "\n"
          ]
        },
        {
          "output_type": "stream",
          "name": "stderr",
          "text": [
            "/usr/local/lib/python3.10/dist-packages/statsmodels/regression/mixed_linear_model.py:2237: ConvergenceWarning: The MLE may be on the boundary of the parameter space.\n",
            "  warnings.warn(msg, ConvergenceWarning)\n"
          ]
        }
      ]
    },
    {
      "cell_type": "code",
      "source": [
        "pip install linearmodels"
      ],
      "metadata": {
        "colab": {
          "base_uri": "https://localhost:8080/"
        },
        "id": "X9v3O__q1sbI",
        "outputId": "a3756807-4e3e-4c4a-fd46-88fb9bf048b1"
      },
      "execution_count": 46,
      "outputs": [
        {
          "output_type": "stream",
          "name": "stdout",
          "text": [
            "Looking in indexes: https://pypi.org/simple, https://us-python.pkg.dev/colab-wheels/public/simple/\n",
            "Collecting linearmodels\n",
            "  Downloading linearmodels-5.0-cp310-cp310-manylinux_2_17_x86_64.manylinux2014_x86_64.whl (1.8 MB)\n",
            "\u001b[2K     \u001b[90m━━━━━━━━━━━━━━━━━━━━━━━━━━━━━━━━━━━━━━━━\u001b[0m \u001b[32m1.8/1.8 MB\u001b[0m \u001b[31m20.5 MB/s\u001b[0m eta \u001b[36m0:00:00\u001b[0m\n",
            "\u001b[?25hRequirement already satisfied: numpy>=1.19.0 in /usr/local/lib/python3.10/dist-packages (from linearmodels) (1.22.4)\n",
            "Requirement already satisfied: pandas>=1.1.0 in /usr/local/lib/python3.10/dist-packages (from linearmodels) (1.5.3)\n",
            "Requirement already satisfied: scipy>=1.5.0 in /usr/local/lib/python3.10/dist-packages (from linearmodels) (1.10.1)\n",
            "Requirement already satisfied: statsmodels>=0.12.0 in /usr/local/lib/python3.10/dist-packages (from linearmodels) (0.13.5)\n",
            "Collecting mypy-extensions>=0.4 (from linearmodels)\n",
            "  Downloading mypy_extensions-1.0.0-py3-none-any.whl (4.7 kB)\n",
            "Requirement already satisfied: Cython>=0.29.34 in /usr/local/lib/python3.10/dist-packages (from linearmodels) (0.29.34)\n",
            "Collecting pyhdfe>=0.1 (from linearmodels)\n",
            "  Downloading pyhdfe-0.1.2-py3-none-any.whl (18 kB)\n",
            "Collecting formulaic>=0.6.1 (from linearmodels)\n",
            "  Downloading formulaic-0.6.1-py3-none-any.whl (82 kB)\n",
            "\u001b[2K     \u001b[90m━━━━━━━━━━━━━━━━━━━━━━━━━━━━━━━━━━━━━━━━\u001b[0m \u001b[32m82.3/82.3 kB\u001b[0m \u001b[31m8.1 MB/s\u001b[0m eta \u001b[36m0:00:00\u001b[0m\n",
            "\u001b[?25hCollecting setuptools-scm[toml]<8.0.0,>=7.0.0 (from linearmodels)\n",
            "  Downloading setuptools_scm-7.1.0-py3-none-any.whl (43 kB)\n",
            "\u001b[2K     \u001b[90m━━━━━━━━━━━━━━━━━━━━━━━━━━━━━━━━━━━━━━━━\u001b[0m \u001b[32m43.8/43.8 kB\u001b[0m \u001b[31m5.2 MB/s\u001b[0m eta \u001b[36m0:00:00\u001b[0m\n",
            "\u001b[?25hCollecting astor>=0.8 (from formulaic>=0.6.1->linearmodels)\n",
            "  Downloading astor-0.8.1-py2.py3-none-any.whl (27 kB)\n",
            "Collecting interface-meta>=1.2.0 (from formulaic>=0.6.1->linearmodels)\n",
            "  Downloading interface_meta-1.3.0-py3-none-any.whl (14 kB)\n",
            "Requirement already satisfied: typing-extensions>=4.2.0 in /usr/local/lib/python3.10/dist-packages (from formulaic>=0.6.1->linearmodels) (4.5.0)\n",
            "Requirement already satisfied: wrapt>=1.0 in /usr/local/lib/python3.10/dist-packages (from formulaic>=0.6.1->linearmodels) (1.14.1)\n",
            "Requirement already satisfied: python-dateutil>=2.8.1 in /usr/local/lib/python3.10/dist-packages (from pandas>=1.1.0->linearmodels) (2.8.2)\n",
            "Requirement already satisfied: pytz>=2020.1 in /usr/local/lib/python3.10/dist-packages (from pandas>=1.1.0->linearmodels) (2022.7.1)\n",
            "Requirement already satisfied: packaging>=20.0 in /usr/local/lib/python3.10/dist-packages (from setuptools-scm[toml]<8.0.0,>=7.0.0->linearmodels) (23.1)\n",
            "Requirement already satisfied: setuptools in /usr/local/lib/python3.10/dist-packages (from setuptools-scm[toml]<8.0.0,>=7.0.0->linearmodels) (67.7.2)\n",
            "Requirement already satisfied: tomli>=1.0.0 in /usr/local/lib/python3.10/dist-packages (from setuptools-scm[toml]<8.0.0,>=7.0.0->linearmodels) (2.0.1)\n",
            "Requirement already satisfied: patsy>=0.5.2 in /usr/local/lib/python3.10/dist-packages (from statsmodels>=0.12.0->linearmodels) (0.5.3)\n",
            "Requirement already satisfied: six in /usr/local/lib/python3.10/dist-packages (from patsy>=0.5.2->statsmodels>=0.12.0->linearmodels) (1.16.0)\n",
            "Installing collected packages: setuptools-scm, mypy-extensions, interface-meta, astor, pyhdfe, formulaic, linearmodels\n",
            "Successfully installed astor-0.8.1 formulaic-0.6.1 interface-meta-1.3.0 linearmodels-5.0 mypy-extensions-1.0.0 pyhdfe-0.1.2 setuptools-scm-7.1.0\n"
          ]
        }
      ]
    },
    {
      "cell_type": "code",
      "source": [
        "import pandas as pd\n",
        "from linearmodels.panel import PanelOLS"
      ],
      "metadata": {
        "id": "b_bT8Dku1krV"
      },
      "execution_count": 48,
      "outputs": []
    },
    {
      "cell_type": "code",
      "source": [
        "fe_model = PanelOLS(multi_index_df['la'], multi_index_df[['size', 'llp', 'nim','roe','car','lta','eta','gdp','inf','lvr','fg','ld']], entity_effects=True).fit()\n",
        "print(fe_model)"
      ],
      "metadata": {
        "colab": {
          "base_uri": "https://localhost:8080/"
        },
        "id": "zITgUawr16sc",
        "outputId": "a9d5122e-352d-45aa-b8c9-2bf2269d5534"
      },
      "execution_count": 52,
      "outputs": [
        {
          "output_type": "stream",
          "name": "stdout",
          "text": [
            "                          PanelOLS Estimation Summary                           \n",
            "================================================================================\n",
            "Dep. Variable:                     la   R-squared:                        0.1569\n",
            "Estimator:                   PanelOLS   R-squared (Between):             -44.550\n",
            "No. Observations:                 319   R-squared (Within):               0.1569\n",
            "Date:                Sat, Jun 03 2023   R-squared (Overall):             -29.523\n",
            "Time:                        15:22:07   Log-likelihood                    173.64\n",
            "Cov. Estimator:            Unadjusted                                           \n",
            "                                        F-statistic:                      4.3114\n",
            "Entities:                          29   P-value                           0.0000\n",
            "Avg Obs:                       11.000   Distribution:                  F(12,278)\n",
            "Min Obs:                       11.000                                           \n",
            "Max Obs:                       11.000   F-statistic (robust):             4.3114\n",
            "                                        P-value                           0.0000\n",
            "Time periods:                      11   Distribution:                  F(12,278)\n",
            "Avg Obs:                       29.000                                           \n",
            "Min Obs:                       29.000                                           \n",
            "Max Obs:                       29.000                                           \n",
            "                                                                                \n",
            "                             Parameter Estimates                              \n",
            "==============================================================================\n",
            "            Parameter  Std. Err.     T-stat    P-value    Lower CI    Upper CI\n",
            "------------------------------------------------------------------------------\n",
            "size          -0.0265     0.0759    -0.3486     0.7277     -0.1759      0.1230\n",
            "llp           -0.3476     2.2337    -0.1556     0.8764     -4.7447      4.0494\n",
            "nim           -2.7466     1.0040    -2.7357     0.0066     -4.7231     -0.7702\n",
            "roe            0.6126     0.1873     3.2707     0.0012      0.2439      0.9813\n",
            "car            0.1078     0.1325     0.8134     0.4167     -0.1531      0.3686\n",
            "lta           -0.1231     0.1457    -0.8444     0.3992     -0.4099      0.1638\n",
            "eta            0.2671     24.311     0.0110     0.9912     -47.591      48.125\n",
            "gdp           -0.9163     0.6517    -1.4060     0.1608     -2.1992      0.3666\n",
            "inf            0.2817     0.2851     0.9880     0.3240     -0.2795      0.8429\n",
            "lvr           -0.5080     24.286    -0.0209     0.9833     -48.316      47.300\n",
            "fg             0.5889     0.3982     1.4786     0.1404     -0.1951      1.3728\n",
            "ld            -0.4808     0.2670    -1.8011     0.0728     -1.0064      0.0447\n",
            "==============================================================================\n",
            "\n",
            "F-test for Poolability: 5.0052\n",
            "P-value: 0.0000\n",
            "Distribution: F(28,278)\n",
            "\n",
            "Included effects: Entity\n"
          ]
        }
      ]
    },
    {
      "cell_type": "code",
      "source": [
        "from statsmodels.regression import linear_model"
      ],
      "metadata": {
        "id": "ZYo86X1MqLFD"
      },
      "execution_count": 32,
      "outputs": []
    },
    {
      "cell_type": "code",
      "source": [
        "df_with_constant = sm.add_constant(df)\n",
        "ols_model = sm.OLS(df['la'], df_with_constant[['const', 'size', 'llp', 'nim','roe','car','lta','eta','gdp','inf','lvr','fg','ld']]).fit()"
      ],
      "metadata": {
        "id": "WwMN9x8Py5Dy"
      },
      "execution_count": 41,
      "outputs": []
    },
    {
      "cell_type": "code",
      "source": [
        "# Calculate VIF for each independent variable\n",
        "vif = pd.DataFrame()\n",
        "vif[\"Variable\"] = df_with_constant[['const', 'size', 'llp', 'nim','roe','car','lta','eta','gdp','inf','lvr','fg','ld']].columns\n",
        "vif[\"VIF\"] = [variance_inflation_factor(df_with_constant[['const', 'size', 'llp', 'nim','roe','car','lta','eta','gdp','inf','lvr','fg','ld']].values, i) for i in range(df_with_constant[['const', 'size', 'llp', 'nim','roe','car','lta','eta','gdp','inf','lvr','fg','ld']].shape[1])]\n",
        "\n",
        "# Print the VIF results\n",
        "print(vif)"
      ],
      "metadata": {
        "colab": {
          "base_uri": "https://localhost:8080/"
        },
        "id": "MsZHQIv-zVMj",
        "outputId": "0421f5ab-2246-47b1-a8df-fdcefda8a30a"
      },
      "execution_count": 42,
      "outputs": [
        {
          "output_type": "stream",
          "name": "stdout",
          "text": [
            "   Variable           VIF\n",
            "0     const  7.828361e+06\n",
            "1      size  2.773596e+00\n",
            "2       llp  1.269040e+00\n",
            "3       nim  1.524133e+00\n",
            "4       roe  1.648706e+00\n",
            "5       car  1.312848e+00\n",
            "6       lta  2.746850e+00\n",
            "7       eta  1.159920e+04\n",
            "8       gdp  1.107783e+00\n",
            "9       inf  1.409772e+00\n",
            "10      lvr  1.158043e+04\n",
            "11       fg  1.455993e+01\n",
            "12       ld  1.825579e+01\n"
          ]
        }
      ]
    },
    {
      "cell_type": "code",
      "source": [
        "pip install wooldridge"
      ],
      "metadata": {
        "colab": {
          "base_uri": "https://localhost:8080/"
        },
        "id": "x_9ZIzNrPTeS",
        "outputId": "0a179435-adef-4a62-c3af-8ddb7031ff37"
      },
      "execution_count": 75,
      "outputs": [
        {
          "output_type": "stream",
          "name": "stdout",
          "text": [
            "Looking in indexes: https://pypi.org/simple, https://us-python.pkg.dev/colab-wheels/public/simple/\n",
            "Requirement already satisfied: wooldridge in /usr/local/lib/python3.10/dist-packages (0.4.4)\n",
            "Requirement already satisfied: pandas in /usr/local/lib/python3.10/dist-packages (from wooldridge) (1.5.3)\n",
            "Requirement already satisfied: python-dateutil>=2.8.1 in /usr/local/lib/python3.10/dist-packages (from pandas->wooldridge) (2.8.2)\n",
            "Requirement already satisfied: pytz>=2020.1 in /usr/local/lib/python3.10/dist-packages (from pandas->wooldridge) (2022.7.1)\n",
            "Requirement already satisfied: numpy>=1.21.0 in /usr/local/lib/python3.10/dist-packages (from pandas->wooldridge) (1.22.4)\n",
            "Requirement already satisfied: six>=1.5 in /usr/local/lib/python3.10/dist-packages (from python-dateutil>=2.8.1->pandas->wooldridge) (1.16.0)\n"
          ]
        }
      ]
    },
    {
      "cell_type": "code",
      "source": [
        "from statsmodels.stats.diagnostic import acorr_breusch_godfrey"
      ],
      "metadata": {
        "id": "NTpaIuGfQCp-"
      },
      "execution_count": 68,
      "outputs": []
    },
    {
      "cell_type": "code",
      "source": [
        "model = sm.OLS(df['la'], df_with_constant[['const',  'size', 'llp', 'nim','roe','car','lta','eta','gdp','inf','lvr','fg','ld']]).fit()"
      ],
      "metadata": {
        "id": "HIAfHnIZQgqd"
      },
      "execution_count": 71,
      "outputs": []
    },
    {
      "cell_type": "code",
      "source": [
        "wooldridge_test = acorr_breusch_godfrey(model, nlags=1)\n",
        "# Print the test results\n",
        "print(wooldridge_test)"
      ],
      "metadata": {
        "colab": {
          "base_uri": "https://localhost:8080/"
        },
        "id": "qED4X5uLQFMX",
        "outputId": "caf20f20-7055-4f97-f6ae-eaf2aa8ff8c6"
      },
      "execution_count": 79,
      "outputs": [
        {
          "output_type": "stream",
          "name": "stdout",
          "text": [
            "(115.39361731966463, 6.452948571762664e-27, 172.85830050698567, 1.381607594826196e-31)\n"
          ]
        }
      ]
    },
    {
      "cell_type": "code",
      "source": [
        "# package to perform ADF test\n",
        "from statsmodels.tsa.stattools import adfuller"
      ],
      "metadata": {
        "id": "5qlXXxnmTzxk"
      },
      "execution_count": 84,
      "outputs": []
    },
    {
      "cell_type": "code",
      "source": [
        "la_values = multi_index_df.la\n",
        " \n",
        "res = adfuller(la_values)\n",
        " \n",
        "# Printing the statistical result of the adfuller test\n",
        "print('Augmneted Dickey_fuller Statistic: %f' % res[0])\n",
        "print('p-value: %f' % res[1])\n",
        " \n",
        "# printing the critical values at different alpha levels.\n",
        "print('critical values at different levels:')\n",
        "for k, v in res[4].items():\n",
        "    print('\\t%s: %.3f' % (k, v))"
      ],
      "metadata": {
        "colab": {
          "base_uri": "https://localhost:8080/"
        },
        "id": "bJC_fS41XdVX",
        "outputId": "5bd55e15-ab8c-49f7-be3c-18d11bd4ac74"
      },
      "execution_count": 85,
      "outputs": [
        {
          "output_type": "stream",
          "name": "stdout",
          "text": [
            "Augmneted Dickey_fuller Statistic: -6.891863\n",
            "p-value: 0.000000\n",
            "critical values at different levels:\n",
            "\t1%: -3.451\n",
            "\t5%: -2.871\n",
            "\t10%: -2.572\n"
          ]
        }
      ]
    },
    {
      "cell_type": "code",
      "source": [
        "llp_values = multi_index_df.llp\n",
        " \n",
        "res = adfuller(llp_values)\n",
        " \n",
        "# Printing the statistical result of the adfuller test\n",
        "print('Augmneted Dickey_fuller Statistic: %f' % res[0])\n",
        "print('p-value: %f' % res[1])\n",
        " \n",
        "# printing the critical values at different alpha levels.\n",
        "print('critical values at different levels:')\n",
        "for k, v in res[4].items():\n",
        "    print('\\t%s: %.3f' % (k, v))"
      ],
      "metadata": {
        "colab": {
          "base_uri": "https://localhost:8080/"
        },
        "outputId": "6643bd8c-d091-4e5f-ebee-ab5c0a19eaee",
        "id": "Nxu5ycwHX9U-"
      },
      "execution_count": 88,
      "outputs": [
        {
          "output_type": "stream",
          "name": "stdout",
          "text": [
            "Augmneted Dickey_fuller Statistic: -9.102187\n",
            "p-value: 0.000000\n",
            "critical values at different levels:\n",
            "\t1%: -3.451\n",
            "\t5%: -2.871\n",
            "\t10%: -2.572\n"
          ]
        }
      ]
    },
    {
      "cell_type": "code",
      "source": [
        "roe_values = multi_index_df.roe\n",
        " \n",
        "res = adfuller(roe_values)\n",
        " \n",
        "# Printing the statistical result of the adfuller test\n",
        "print('Augmneted Dickey_fuller Statistic: %f' % res[0])\n",
        "print('p-value: %f' % res[1])\n",
        " \n",
        "# printing the critical values at different alpha levels.\n",
        "print('critical values at different levels:')\n",
        "for k, v in res[4].items():\n",
        "    print('\\t%s: %.3f' % (k, v))"
      ],
      "metadata": {
        "colab": {
          "base_uri": "https://localhost:8080/"
        },
        "outputId": "181c49a0-7e22-460e-ec9f-3ba618a0c2d8",
        "id": "i6uwoFkWYjih"
      },
      "execution_count": 89,
      "outputs": [
        {
          "output_type": "stream",
          "name": "stdout",
          "text": [
            "Augmneted Dickey_fuller Statistic: -9.761538\n",
            "p-value: 0.000000\n",
            "critical values at different levels:\n",
            "\t1%: -3.451\n",
            "\t5%: -2.871\n",
            "\t10%: -2.572\n"
          ]
        }
      ]
    },
    {
      "cell_type": "code",
      "source": [
        "car_values = multi_index_df.car\n",
        " \n",
        "res = adfuller(car_values)\n",
        " \n",
        "# Printing the statistical result of the adfuller test\n",
        "print('Augmneted Dickey_fuller Statistic: %f' % res[0])\n",
        "print('p-value: %f' % res[1])\n",
        " \n",
        "# printing the critical values at different alpha levels.\n",
        "print('critical values at different levels:')\n",
        "for k, v in res[4].items():\n",
        "    print('\\t%s: %.3f' % (k, v))"
      ],
      "metadata": {
        "colab": {
          "base_uri": "https://localhost:8080/"
        },
        "outputId": "4647188b-9d93-4736-dd4e-1b9a2f4675e8",
        "id": "PjgOMzAuYuX6"
      },
      "execution_count": 90,
      "outputs": [
        {
          "output_type": "stream",
          "name": "stdout",
          "text": [
            "Augmneted Dickey_fuller Statistic: -7.447676\n",
            "p-value: 0.000000\n",
            "critical values at different levels:\n",
            "\t1%: -3.451\n",
            "\t5%: -2.871\n",
            "\t10%: -2.572\n"
          ]
        }
      ]
    },
    {
      "cell_type": "code",
      "source": [
        "lta_values = multi_index_df.lta\n",
        " \n",
        "res = adfuller(lta_values)\n",
        " \n",
        "# Printing the statistical result of the adfuller test\n",
        "print('Augmneted Dickey_fuller Statistic: %f' % res[0])\n",
        "print('p-value: %f' % res[1])\n",
        " \n",
        "# printing the critical values at different alpha levels.\n",
        "print('critical values at different levels:')\n",
        "for k, v in res[4].items():\n",
        "    print('\\t%s: %.3f' % (k, v))"
      ],
      "metadata": {
        "colab": {
          "base_uri": "https://localhost:8080/"
        },
        "outputId": "604b6237-2f7a-4bcd-e4b6-cc5d6cbfbd17",
        "id": "iLrt9VG7Y5Mn"
      },
      "execution_count": 91,
      "outputs": [
        {
          "output_type": "stream",
          "name": "stdout",
          "text": [
            "Augmneted Dickey_fuller Statistic: -6.554601\n",
            "p-value: 0.000000\n",
            "critical values at different levels:\n",
            "\t1%: -3.451\n",
            "\t5%: -2.871\n",
            "\t10%: -2.572\n"
          ]
        }
      ]
    },
    {
      "cell_type": "code",
      "source": [
        "gdp_values = multi_index_df.gdp\n",
        " \n",
        "res = adfuller(gdp_values)\n",
        " \n",
        "# Printing the statistical result of the adfuller test\n",
        "print('Augmneted Dickey_fuller Statistic: %f' % res[0])\n",
        "print('p-value: %f' % res[1])\n",
        " \n",
        "# printing the critical values at different alpha levels.\n",
        "print('critical values at different levels:')\n",
        "for k, v in res[4].items():\n",
        "    print('\\t%s: %.3f' % (k, v))"
      ],
      "metadata": {
        "colab": {
          "base_uri": "https://localhost:8080/"
        },
        "outputId": "766887a1-8aff-4903-d54f-91f244eafc34",
        "id": "NRqG0iZAY8Az"
      },
      "execution_count": 92,
      "outputs": [
        {
          "output_type": "stream",
          "name": "stdout",
          "text": [
            "Augmneted Dickey_fuller Statistic: -52694955734576.968750\n",
            "p-value: 0.000000\n",
            "critical values at different levels:\n",
            "\t1%: -3.452\n",
            "\t5%: -2.871\n",
            "\t10%: -2.572\n"
          ]
        }
      ]
    },
    {
      "cell_type": "code",
      "source": [
        "inf_values = multi_index_df.inf\n",
        " \n",
        "res = adfuller(inf_values)\n",
        " \n",
        "# Printing the statistical result of the adfuller test\n",
        "print('Augmneted Dickey_fuller Statistic: %f' % res[0])\n",
        "print('p-value: %f' % res[1])\n",
        " \n",
        "# printing the critical values at different alpha levels.\n",
        "print('critical values at different levels:')\n",
        "for k, v in res[4].items():\n",
        "    print('\\t%s: %.3f' % (k, v))"
      ],
      "metadata": {
        "colab": {
          "base_uri": "https://localhost:8080/"
        },
        "outputId": "abcd29f9-f4b7-4d88-84dd-c0499eb54dcb",
        "id": "QMv8vpsRZCbi"
      },
      "execution_count": 93,
      "outputs": [
        {
          "output_type": "stream",
          "name": "stdout",
          "text": [
            "Augmneted Dickey_fuller Statistic: -4790402635236949.000000\n",
            "p-value: 0.000000\n",
            "critical values at different levels:\n",
            "\t1%: -3.452\n",
            "\t5%: -2.871\n",
            "\t10%: -2.572\n"
          ]
        }
      ]
    },
    {
      "cell_type": "code",
      "source": [
        "# Specify FGLS model\n",
        "model = sm.GLSAR(y, X, rho=2, data=multi_index_df)\n",
        "\n",
        "# Fit FGLS model\n",
        "results = model.fit()\n",
        "\n",
        "# Print summary of FGLS model results\n",
        "print(results.summary())"
      ],
      "metadata": {
        "colab": {
          "base_uri": "https://localhost:8080/"
        },
        "id": "XHmdlzG5TzLE",
        "outputId": "1eeaad3c-d608-4706-97c9-1f12d25022d5"
      },
      "execution_count": null,
      "outputs": [
        {
          "output_type": "stream",
          "name": "stdout",
          "text": [
            "                                GLSAR Regression Results                               \n",
            "=======================================================================================\n",
            "Dep. Variable:                     fg   R-squared (uncentered):                   0.782\n",
            "Model:                          GLSAR   Adj. R-squared (uncentered):              0.777\n",
            "Method:                 Least Squares   F-statistic:                              138.9\n",
            "Date:                Fri, 24 Feb 2023   Prob (F-statistic):                    1.43e-97\n",
            "Time:                        12:44:26   Log-Likelihood:                          346.57\n",
            "No. Observations:                 317   AIC:                                     -677.1\n",
            "Df Residuals:                     309   BIC:                                     -647.1\n",
            "Df Model:                           8                                                  \n",
            "Covariance Type:            nonrobust                                                  \n",
            "==============================================================================\n",
            "                 coef    std err          t      P>|t|      [0.025      0.975]\n",
            "------------------------------------------------------------------------------\n",
            "size          -0.0560      0.004    -13.179      0.000      -0.064      -0.048\n",
            "llp           -0.6689      0.955     -0.700      0.484      -2.548       1.210\n",
            "nim            0.2343      0.378      0.619      0.536      -0.510       0.979\n",
            "roe            0.3132      0.083      3.795      0.000       0.151       0.476\n",
            "lta            0.4977      0.043     11.452      0.000       0.412       0.583\n",
            "eta            0.2375      0.127      1.863      0.063      -0.013       0.488\n",
            "gdp           -0.4282      0.295     -1.451      0.148      -1.009       0.153\n",
            "inf            0.2888      0.110      2.615      0.009       0.071       0.506\n",
            "==============================================================================\n",
            "Omnibus:                        0.163   Durbin-Watson:                   0.781\n",
            "Prob(Omnibus):                  0.922   Jarque-Bera (JB):                0.259\n",
            "Skew:                           0.045   Prob(JB):                        0.879\n",
            "Kurtosis:                       2.893   Cond. No.                     1.69e+03\n",
            "==============================================================================\n",
            "\n",
            "Notes:\n",
            "[1] R² is computed without centering (uncentered) since the model does not contain a constant.\n",
            "[2] Standard Errors assume that the covariance matrix of the errors is correctly specified.\n",
            "[3] The condition number is large, 1.69e+03. This might indicate that there are\n",
            "strong multicollinearity or other numerical problems.\n"
          ]
        }
      ]
    }
  ]
}